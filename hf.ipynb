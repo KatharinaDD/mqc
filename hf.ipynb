{
 "cells": [
  {
   "cell_type": "code",
   "execution_count": 1,
   "metadata": {},
   "outputs": [
    {
     "name": "stderr",
     "output_type": "stream",
     "text": [
      "Numpy 1.16 has memory leak bug  https://github.com/numpy/numpy/issues/13808\n",
      "It is recommended to downgrade to numpy 1.15 or older\n",
      "/vol/home/doblhoffdierk/.virtualenvs/mqcpy_test/lib/python3.5/site-packages/pyscf/scf/chkfile.py:31: H5pyDeprecationWarning: The default file mode will change to 'r' (read-only) in h5py 3.0. To suppress this warning, pass the mode you need to h5py.File(), or set the global default h5.get_config().default_file_mode, or set the environment variable H5PY_DEFAULT_READONLY=1. Available modes are: 'r', 'r+', 'w', 'w-'/'x', 'a'. See the docs for details.\n",
      "  with h5py.File(chkfile) as fh5:\n"
     ]
    },
    {
     "name": "stdout",
     "output_type": "stream",
     "text": [
      "converged SCF energy = -230.622169648745\n"
     ]
    }
   ],
   "source": [
    "import numpy\n",
    "from pyscf import gto, scf\n",
    "from pyscf import lo\n",
    "from pyscf.tools import molden\n",
    "\n",
    "mol = gto.M(\n",
    "    atom = '''\n",
    "C    0.000     1.399     0.000\n",
    "C    0.000    -1.399     0.000\n",
    "C    1.211     0.699     0.000\n",
    "C    1.211    -0.699     0.000\n",
    "C   -1.211     0.699     0.000\n",
    "C   -1.211    -0.699     0.000\n",
    "H    0.000     2.491     0.000\n",
    "H    0.000    -2.491     0.000\n",
    "H    2.158     1.246     0.000\n",
    "H    2.158    -1.246     0.000\n",
    "H   -2.158     1.246     0.000\n",
    "H   -2.158    -1.246     0.000''',\n",
    "    basis = '6-31g')\n",
    "mf = scf.RHF(mol)\n",
    "mf.chkfile = 'benzene-631g.chk'\n",
    "mf.kernel()\n",
    "molden.from_scf(mf, 'benzene-631g.molden');"
   ]
  },
  {
   "cell_type": "code",
   "execution_count": 2,
   "metadata": {},
   "outputs": [],
   "source": [
    "import avogadro as avo\n",
    "import openchemistry as oc\n",
    "m = avo.core.Molecule()\n",
    "f = avo.io.FileFormatManager()\n",
    "f.read_file(m, 'benzene-631g.molden')\n",
    "mol=oc.load(m)\n",
    "mol.structure.show();"
   ]
  },
  {
   "cell_type": "code",
   "execution_count": null,
   "metadata": {},
   "outputs": [],
   "source": []
  }
 ],
 "metadata": {
  "kernelspec": {
   "display_name": "mqcpy_test",
   "language": "python",
   "name": "mqcpy_test"
  },
  "language_info": {
   "codemirror_mode": {
    "name": "ipython",
    "version": 3
   },
   "file_extension": ".py",
   "mimetype": "text/x-python",
   "name": "python",
   "nbconvert_exporter": "python",
   "pygments_lexer": "ipython3",
   "version": "3.5.2"
  }
 },
 "nbformat": 4,
 "nbformat_minor": 2
}
